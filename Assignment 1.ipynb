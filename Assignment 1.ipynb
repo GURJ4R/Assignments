{
 "cells": [
  {
   "cell_type": "code",
   "execution_count": 13,
   "id": "3671993e",
   "metadata": {},
   "outputs": [
    {
     "name": "stdout",
     "output_type": "stream",
     "text": [
      "2016 2051 2086 2121 2156 2191 2226 2261 2296 2331 2366 2401 2436 2471 2506 2541 2576 2611 2646 2681 2716 2751 2786 2821 2856 2891 2926 2961 2996 3031 3066 3101 3136 3171 "
     ]
    }
   ],
   "source": [
    "for i in range(2000,3201):\n",
    "    if i%7==0 and  i%5==1:\n",
    "        print(i,end=\" \")"
   ]
  },
  {
   "cell_type": "code",
   "execution_count": 2,
   "id": "ed875dd9",
   "metadata": {},
   "outputs": [
    {
     "name": "stdout",
     "output_type": "stream",
     "text": [
      "enter your first name:  deepak\n",
      "enter your last name:  kumar\n",
      "kapeed ramuk\n"
     ]
    }
   ],
   "source": [
    "def reverse_string(first_name,last_name):\n",
    "    str1=first_name[::-1]\n",
    "    str2=last_name[::-1]\n",
    "    print(str1,end=\" \")\n",
    "    print(str2)\n",
    "first_name=input(\"enter your first name:  \")\n",
    "last_name=input(\"enter your last name:  \")\n",
    "\n",
    "reverse_string(first_name,last_name)\n"
   ]
  },
  {
   "cell_type": "code",
   "execution_count": 8,
   "id": "88d42abd",
   "metadata": {},
   "outputs": [
    {
     "name": "stdout",
     "output_type": "stream",
     "text": [
      "enter the diameter of sphere:  12\n",
      "volume of given sphere is :  904.3199999999999\n"
     ]
    }
   ],
   "source": [
    "def calculate_vol(diameter):\n",
    "    r=diameter/2\n",
    "    vol=(4/3)*3.14*(r**3)\n",
    "    return vol\n",
    "diameter=int(input(\"enter the diameter of sphere:  \"))\n",
    "\n",
    "print(\"volume of given sphere is : \",calculate_vol(diameter))\n"
   ]
  },
  {
   "cell_type": "code",
   "execution_count": null,
   "id": "114d6f2d",
   "metadata": {},
   "outputs": [],
   "source": []
  }
 ],
 "metadata": {
  "kernelspec": {
   "display_name": "Python 3",
   "language": "python",
   "name": "python3"
  },
  "language_info": {
   "codemirror_mode": {
    "name": "ipython",
    "version": 3
   },
   "file_extension": ".py",
   "mimetype": "text/x-python",
   "name": "python",
   "nbconvert_exporter": "python",
   "pygments_lexer": "ipython3",
   "version": "3.8.8"
  }
 },
 "nbformat": 4,
 "nbformat_minor": 5
}
